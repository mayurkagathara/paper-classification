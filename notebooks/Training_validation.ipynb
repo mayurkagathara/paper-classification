{
 "cells": [
  {
   "cell_type": "code",
   "execution_count": 1,
   "source": [
    "import pandas as pd\n",
    "import numpy as np\n",
    "from sklearn.multiclass import OneVsRestClassifier\n",
    "import time\n",
    "from sklearn.metrics import f1_score, accuracy_score\n",
    "from sklearn.metrics import multilabel_confusion_matrix, classification_report\n",
    "from sklearn.model_selection import GridSearchCV\n",
    "from sklearn.model_selection import train_test_split\n",
    "import dill as pickle\n",
    "labels_ = ['Computer Science', 'Physics', 'Mathematics','Statistics', 'Quantitative Biology', 'Quantitative Finance']"
   ],
   "outputs": [],
   "metadata": {}
  },
  {
   "cell_type": "markdown",
   "source": [
    "Loading raw data and training data"
   ],
   "metadata": {}
  },
  {
   "cell_type": "code",
   "execution_count": 2,
   "source": [
    "raw_train_data = pd.read_csv('../input_data/train.csv')\n",
    "\n",
    "X = pd.read_csv('../output_files/train_tfidf_6000f.csv')\n",
    "y = raw_train_data[labels_]\n",
    "print(X.shape)\n",
    "print(y.shape)"
   ],
   "outputs": [
    {
     "output_type": "stream",
     "name": "stdout",
     "text": [
      "(20972, 6000)\n",
      "(20972, 6)\n"
     ]
    }
   ],
   "metadata": {}
  },
  {
   "cell_type": "code",
   "execution_count": null,
   "source": [
    "X.head()"
   ],
   "outputs": [
    {
     "output_type": "execute_result",
     "data": {
      "text/plain": [
       "   effect  maps  neural  network  neural network  and  poisson  for  \\\n",
       "0     0.0   0.0     0.0      0.0             0.0  0.0      0.0  0.0   \n",
       "1     0.0   0.0     0.0      0.0             0.0  0.0      0.0  0.0   \n",
       "2     0.0   0.0     0.0      0.0             0.0  0.0      0.0  0.0   \n",
       "3     0.0   0.0     0.0      0.0             0.0  0.0      0.0  0.0   \n",
       "4     0.0   0.0     0.0      0.0             0.0  0.0      0.0  0.0   \n",
       "\n",
       "   functions  finite  ...  volunt  browser  pm25  mathcalm  memristor  ecg  \\\n",
       "0        0.0     0.0  ...     0.0      0.0   0.0       0.0        0.0  0.0   \n",
       "1        0.0     0.0  ...     0.0      0.0   0.0       0.0        0.0  0.0   \n",
       "2        0.0     0.0  ...     0.0      0.0   0.0       0.0        0.0  0.0   \n",
       "3        0.0     0.0  ...     0.0      0.0   0.0       0.0        0.0  0.0   \n",
       "4        0.0     0.0  ...     0.0      0.0   0.0       0.0        0.0  0.0   \n",
       "\n",
       "   lookahead  richclub     pomdp  starless  \n",
       "0        0.0       0.0  0.000000       0.0  \n",
       "1        0.0       0.0  0.000000       0.0  \n",
       "2        0.0       0.0  0.424398       0.0  \n",
       "3        0.0       0.0  0.000000       0.0  \n",
       "4        0.0       0.0  0.000000       0.0  \n",
       "\n",
       "[5 rows x 6000 columns]"
      ],
      "text/html": [
       "<div>\n",
       "<style scoped>\n",
       "    .dataframe tbody tr th:only-of-type {\n",
       "        vertical-align: middle;\n",
       "    }\n",
       "\n",
       "    .dataframe tbody tr th {\n",
       "        vertical-align: top;\n",
       "    }\n",
       "\n",
       "    .dataframe thead th {\n",
       "        text-align: right;\n",
       "    }\n",
       "</style>\n",
       "<table border=\"1\" class=\"dataframe\">\n",
       "  <thead>\n",
       "    <tr style=\"text-align: right;\">\n",
       "      <th></th>\n",
       "      <th>effect</th>\n",
       "      <th>maps</th>\n",
       "      <th>neural</th>\n",
       "      <th>network</th>\n",
       "      <th>neural network</th>\n",
       "      <th>and</th>\n",
       "      <th>poisson</th>\n",
       "      <th>for</th>\n",
       "      <th>functions</th>\n",
       "      <th>finite</th>\n",
       "      <th>...</th>\n",
       "      <th>volunt</th>\n",
       "      <th>browser</th>\n",
       "      <th>pm25</th>\n",
       "      <th>mathcalm</th>\n",
       "      <th>memristor</th>\n",
       "      <th>ecg</th>\n",
       "      <th>lookahead</th>\n",
       "      <th>richclub</th>\n",
       "      <th>pomdp</th>\n",
       "      <th>starless</th>\n",
       "    </tr>\n",
       "  </thead>\n",
       "  <tbody>\n",
       "    <tr>\n",
       "      <th>0</th>\n",
       "      <td>0.0</td>\n",
       "      <td>0.0</td>\n",
       "      <td>0.0</td>\n",
       "      <td>0.0</td>\n",
       "      <td>0.0</td>\n",
       "      <td>0.0</td>\n",
       "      <td>0.0</td>\n",
       "      <td>0.0</td>\n",
       "      <td>0.0</td>\n",
       "      <td>0.0</td>\n",
       "      <td>...</td>\n",
       "      <td>0.0</td>\n",
       "      <td>0.0</td>\n",
       "      <td>0.0</td>\n",
       "      <td>0.0</td>\n",
       "      <td>0.0</td>\n",
       "      <td>0.0</td>\n",
       "      <td>0.0</td>\n",
       "      <td>0.0</td>\n",
       "      <td>0.000000</td>\n",
       "      <td>0.0</td>\n",
       "    </tr>\n",
       "    <tr>\n",
       "      <th>1</th>\n",
       "      <td>0.0</td>\n",
       "      <td>0.0</td>\n",
       "      <td>0.0</td>\n",
       "      <td>0.0</td>\n",
       "      <td>0.0</td>\n",
       "      <td>0.0</td>\n",
       "      <td>0.0</td>\n",
       "      <td>0.0</td>\n",
       "      <td>0.0</td>\n",
       "      <td>0.0</td>\n",
       "      <td>...</td>\n",
       "      <td>0.0</td>\n",
       "      <td>0.0</td>\n",
       "      <td>0.0</td>\n",
       "      <td>0.0</td>\n",
       "      <td>0.0</td>\n",
       "      <td>0.0</td>\n",
       "      <td>0.0</td>\n",
       "      <td>0.0</td>\n",
       "      <td>0.000000</td>\n",
       "      <td>0.0</td>\n",
       "    </tr>\n",
       "    <tr>\n",
       "      <th>2</th>\n",
       "      <td>0.0</td>\n",
       "      <td>0.0</td>\n",
       "      <td>0.0</td>\n",
       "      <td>0.0</td>\n",
       "      <td>0.0</td>\n",
       "      <td>0.0</td>\n",
       "      <td>0.0</td>\n",
       "      <td>0.0</td>\n",
       "      <td>0.0</td>\n",
       "      <td>0.0</td>\n",
       "      <td>...</td>\n",
       "      <td>0.0</td>\n",
       "      <td>0.0</td>\n",
       "      <td>0.0</td>\n",
       "      <td>0.0</td>\n",
       "      <td>0.0</td>\n",
       "      <td>0.0</td>\n",
       "      <td>0.0</td>\n",
       "      <td>0.0</td>\n",
       "      <td>0.424398</td>\n",
       "      <td>0.0</td>\n",
       "    </tr>\n",
       "    <tr>\n",
       "      <th>3</th>\n",
       "      <td>0.0</td>\n",
       "      <td>0.0</td>\n",
       "      <td>0.0</td>\n",
       "      <td>0.0</td>\n",
       "      <td>0.0</td>\n",
       "      <td>0.0</td>\n",
       "      <td>0.0</td>\n",
       "      <td>0.0</td>\n",
       "      <td>0.0</td>\n",
       "      <td>0.0</td>\n",
       "      <td>...</td>\n",
       "      <td>0.0</td>\n",
       "      <td>0.0</td>\n",
       "      <td>0.0</td>\n",
       "      <td>0.0</td>\n",
       "      <td>0.0</td>\n",
       "      <td>0.0</td>\n",
       "      <td>0.0</td>\n",
       "      <td>0.0</td>\n",
       "      <td>0.000000</td>\n",
       "      <td>0.0</td>\n",
       "    </tr>\n",
       "    <tr>\n",
       "      <th>4</th>\n",
       "      <td>0.0</td>\n",
       "      <td>0.0</td>\n",
       "      <td>0.0</td>\n",
       "      <td>0.0</td>\n",
       "      <td>0.0</td>\n",
       "      <td>0.0</td>\n",
       "      <td>0.0</td>\n",
       "      <td>0.0</td>\n",
       "      <td>0.0</td>\n",
       "      <td>0.0</td>\n",
       "      <td>...</td>\n",
       "      <td>0.0</td>\n",
       "      <td>0.0</td>\n",
       "      <td>0.0</td>\n",
       "      <td>0.0</td>\n",
       "      <td>0.0</td>\n",
       "      <td>0.0</td>\n",
       "      <td>0.0</td>\n",
       "      <td>0.0</td>\n",
       "      <td>0.000000</td>\n",
       "      <td>0.0</td>\n",
       "    </tr>\n",
       "  </tbody>\n",
       "</table>\n",
       "<p>5 rows × 6000 columns</p>\n",
       "</div>"
      ]
     },
     "metadata": {},
     "execution_count": 3
    }
   ],
   "metadata": {}
  },
  {
   "cell_type": "code",
   "execution_count": null,
   "source": [
    "y.head()"
   ],
   "outputs": [
    {
     "output_type": "execute_result",
     "data": {
      "text/plain": [
       "   Computer Science  Physics  Mathematics  Statistics  Quantitative Biology  \\\n",
       "0                 1        0            0           0                     0   \n",
       "1                 1        0            0           0                     0   \n",
       "2                 0        0            1           0                     0   \n",
       "3                 0        0            1           0                     0   \n",
       "4                 1        0            0           1                     0   \n",
       "\n",
       "   Quantitative Finance  \n",
       "0                     0  \n",
       "1                     0  \n",
       "2                     0  \n",
       "3                     0  \n",
       "4                     0  "
      ],
      "text/html": [
       "<div>\n",
       "<style scoped>\n",
       "    .dataframe tbody tr th:only-of-type {\n",
       "        vertical-align: middle;\n",
       "    }\n",
       "\n",
       "    .dataframe tbody tr th {\n",
       "        vertical-align: top;\n",
       "    }\n",
       "\n",
       "    .dataframe thead th {\n",
       "        text-align: right;\n",
       "    }\n",
       "</style>\n",
       "<table border=\"1\" class=\"dataframe\">\n",
       "  <thead>\n",
       "    <tr style=\"text-align: right;\">\n",
       "      <th></th>\n",
       "      <th>Computer Science</th>\n",
       "      <th>Physics</th>\n",
       "      <th>Mathematics</th>\n",
       "      <th>Statistics</th>\n",
       "      <th>Quantitative Biology</th>\n",
       "      <th>Quantitative Finance</th>\n",
       "    </tr>\n",
       "  </thead>\n",
       "  <tbody>\n",
       "    <tr>\n",
       "      <th>0</th>\n",
       "      <td>1</td>\n",
       "      <td>0</td>\n",
       "      <td>0</td>\n",
       "      <td>0</td>\n",
       "      <td>0</td>\n",
       "      <td>0</td>\n",
       "    </tr>\n",
       "    <tr>\n",
       "      <th>1</th>\n",
       "      <td>1</td>\n",
       "      <td>0</td>\n",
       "      <td>0</td>\n",
       "      <td>0</td>\n",
       "      <td>0</td>\n",
       "      <td>0</td>\n",
       "    </tr>\n",
       "    <tr>\n",
       "      <th>2</th>\n",
       "      <td>0</td>\n",
       "      <td>0</td>\n",
       "      <td>1</td>\n",
       "      <td>0</td>\n",
       "      <td>0</td>\n",
       "      <td>0</td>\n",
       "    </tr>\n",
       "    <tr>\n",
       "      <th>3</th>\n",
       "      <td>0</td>\n",
       "      <td>0</td>\n",
       "      <td>1</td>\n",
       "      <td>0</td>\n",
       "      <td>0</td>\n",
       "      <td>0</td>\n",
       "    </tr>\n",
       "    <tr>\n",
       "      <th>4</th>\n",
       "      <td>1</td>\n",
       "      <td>0</td>\n",
       "      <td>0</td>\n",
       "      <td>1</td>\n",
       "      <td>0</td>\n",
       "      <td>0</td>\n",
       "    </tr>\n",
       "  </tbody>\n",
       "</table>\n",
       "</div>"
      ]
     },
     "metadata": {},
     "execution_count": 4
    }
   ],
   "metadata": {}
  },
  {
   "cell_type": "code",
   "execution_count": 3,
   "source": [
    "X_train, X_test, y_train, y_test = train_test_split(X,y, test_size=0.2, random_state=25 )"
   ],
   "outputs": [],
   "metadata": {}
  },
  {
   "cell_type": "markdown",
   "source": [
    "### Helper function\n",
    "This function takes model, X_test, Y_test and prints f1-score and accuracy scores per topics"
   ],
   "metadata": {}
  },
  {
   "cell_type": "code",
   "execution_count": 4,
   "source": [
    "def model_scorer(model, xtest, ytest):\n",
    "    y_pred = model.predict(xtest)\n",
    "    f1score = f1_score(y_test, y_pred, average='micro')\n",
    "    print(f'f1 micro score: {f1score}')\n",
    "    for i in range(y_test.shape[1]):\n",
    "        print(f'Topic_{i+1} accuracy= {accuracy_score(y_true=y_test.iloc[:,i], y_pred=y_pred[:,i])}')\n",
    "    print(multilabel_confusion_matrix(ytest, y_pred))"
   ],
   "outputs": [],
   "metadata": {}
  },
  {
   "cell_type": "markdown",
   "source": [
    "## Multinomial Naive Bayes"
   ],
   "metadata": {}
  },
  {
   "cell_type": "code",
   "execution_count": 5,
   "source": [
    "X_train.shape, y_train.shape, X_test.shape, y_test.shape"
   ],
   "outputs": [
    {
     "output_type": "execute_result",
     "data": {
      "text/plain": [
       "((16777, 6000), (16777, 6), (4195, 6000), (4195, 6))"
      ]
     },
     "metadata": {},
     "execution_count": 5
    }
   ],
   "metadata": {}
  },
  {
   "cell_type": "code",
   "execution_count": 13,
   "source": [
    "# Training is already done. and model is saved.\n",
    "from sklearn.naive_bayes import MultinomialNB\n",
    "\n",
    "start_time = time.time()\n",
    "clf_model_mnb = OneVsRestClassifier(MultinomialNB(alpha=0.1), n_jobs=-1)\n",
    "clf_model_mnb.fit(X_train, y_train)\n",
    "print('Training took {:.3f} seconds'.format(time.time() - start_time))"
   ],
   "outputs": [
    {
     "output_type": "stream",
     "name": "stdout",
     "text": [
      "Training took 18.344 seconds\n"
     ]
    }
   ],
   "metadata": {}
  },
  {
   "cell_type": "markdown",
   "source": [
    "Saving Model to pickle file..."
   ],
   "metadata": {}
  },
  {
   "cell_type": "code",
   "execution_count": 6,
   "source": [
    "mnb_model_file = '../output_files/mnb_model.sav'"
   ],
   "outputs": [],
   "metadata": {}
  },
  {
   "cell_type": "code",
   "execution_count": 14,
   "source": [
    "with open(mnb_model_file, 'wb') as fopen:\n",
    "    pickle.dump(clf_model_mnb, fopen)"
   ],
   "outputs": [],
   "metadata": {}
  },
  {
   "cell_type": "code",
   "execution_count": 7,
   "source": [
    "with open(mnb_model_file, 'rb') as fread:\n",
    "    clf_mnb = pickle.load(fread)"
   ],
   "outputs": [],
   "metadata": {}
  },
  {
   "cell_type": "code",
   "execution_count": 16,
   "source": [
    "model_scorer(clf_mnb, X_test, y_test)"
   ],
   "outputs": [
    {
     "output_type": "stream",
     "name": "stdout",
     "text": [
      "f1 micro score: 0.7980877390326209\n",
      "Topic_1 accuracy= 0.8429082240762813\n",
      "Topic_2 accuracy= 0.9218116805721096\n",
      "Topic_3 accuracy= 0.8905840286054827\n",
      "Topic_4 accuracy= 0.8707985697258641\n",
      "Topic_5 accuracy= 0.9711561382598332\n",
      "Topic_6 accuracy= 0.9892729439809297\n",
      "[[[2093  420]\n",
      "  [ 239 1443]]\n",
      "\n",
      " [[2844  120]\n",
      "  [ 208 1023]]\n",
      "\n",
      " [[2840  223]\n",
      "  [ 236  896]]\n",
      "\n",
      " [[2808  369]\n",
      "  [ 173  845]]\n",
      "\n",
      " [[4040   21]\n",
      "  [ 100   34]]\n",
      "\n",
      " [[4134   10]\n",
      "  [  35   16]]]\n"
     ]
    }
   ],
   "metadata": {}
  },
  {
   "cell_type": "markdown",
   "source": [
    "**5-fold cross validation with grid search to find the best value of alpha**"
   ],
   "metadata": {}
  },
  {
   "cell_type": "code",
   "execution_count": 12,
   "source": [
    "alpha_arr = [1e-4, 1e-3, 1e-2, 1e-1, 0, 1, 2, 10]\n",
    "clf_CV = GridSearchCV(clf_model_mnb, {'estimator__alpha':alpha_arr}, scoring='f1_micro', verbose=1, n_jobs=-1)\n",
    "\n",
    "start_time = time.time()\n",
    "clf_CV.fit(X_train, y_train)\n",
    "print('Training took {:.3f} seconds'.format(time.time() - start_time))\n",
    "clf_CV.best_estimator_"
   ],
   "outputs": [
    {
     "output_type": "stream",
     "name": "stdout",
     "text": [
      "Fitting 5 folds for each of 8 candidates, totalling 40 fits\n",
      "Training took 236.087 seconds\n"
     ]
    },
    {
     "output_type": "execute_result",
     "data": {
      "text/plain": [
       "OneVsRestClassifier(estimator=MultinomialNB(alpha=0.1), n_jobs=-1)"
      ]
     },
     "metadata": {},
     "execution_count": 12
    }
   ],
   "metadata": {}
  },
  {
   "cell_type": "code",
   "execution_count": 17,
   "source": [
    "# Printing the result of grid search cross validation\n",
    "pd.DataFrame(clf_CV.cv_results_)"
   ],
   "outputs": [
    {
     "output_type": "execute_result",
     "data": {
      "text/plain": [
       "   mean_fit_time  std_fit_time  mean_score_time  std_score_time  \\\n",
       "0      13.471359      1.285233         3.044115        0.463865   \n",
       "1      11.517519      2.142521         3.806543        1.467137   \n",
       "2      10.031562      1.787620         4.641951        0.981307   \n",
       "3       9.185314      1.158198         4.930585        0.448698   \n",
       "4       9.584277      0.965773         4.361456        1.132168   \n",
       "5       9.533543      1.284787         4.665036        1.420612   \n",
       "6       9.002414      1.268036         4.837592        1.198256   \n",
       "7       8.936553      1.179791         3.474391        1.356673   \n",
       "\n",
       "  param_estimator__alpha                        params  split0_test_score  \\\n",
       "0                 0.0001  {'estimator__alpha': 0.0001}           0.802331   \n",
       "1                  0.001   {'estimator__alpha': 0.001}           0.803030   \n",
       "2                   0.01    {'estimator__alpha': 0.01}           0.803903   \n",
       "3                    0.1     {'estimator__alpha': 0.1}           0.804901   \n",
       "4                      0       {'estimator__alpha': 0}           0.797449   \n",
       "5                      1       {'estimator__alpha': 1}           0.799153   \n",
       "6                      2       {'estimator__alpha': 2}           0.792918   \n",
       "7                     10      {'estimator__alpha': 10}           0.715830   \n",
       "\n",
       "   split1_test_score  split2_test_score  split3_test_score  split4_test_score  \\\n",
       "0           0.798436           0.802734           0.797666           0.803041   \n",
       "1           0.799764           0.805259           0.798434           0.803929   \n",
       "2           0.802253           0.806531           0.800566           0.805284   \n",
       "3           0.801724           0.807550           0.801032           0.806323   \n",
       "4           0.791602           0.796901           0.793856           0.800000   \n",
       "5           0.795810           0.804995           0.796167           0.804060   \n",
       "6           0.790085           0.800904           0.791908           0.798656   \n",
       "7           0.718511           0.730981           0.721503           0.728689   \n",
       "\n",
       "   mean_test_score  std_test_score  rank_test_score  \n",
       "0         0.800842        0.002303                4  \n",
       "1         0.802083        0.002572                3  \n",
       "2         0.803707        0.002120                2  \n",
       "3         0.804306        0.002543                1  \n",
       "4         0.795962        0.002927                6  \n",
       "5         0.800037        0.003857                5  \n",
       "6         0.794894        0.004153                7  \n",
       "7         0.723103        0.005828                8  "
      ],
      "text/html": [
       "<div>\n",
       "<style scoped>\n",
       "    .dataframe tbody tr th:only-of-type {\n",
       "        vertical-align: middle;\n",
       "    }\n",
       "\n",
       "    .dataframe tbody tr th {\n",
       "        vertical-align: top;\n",
       "    }\n",
       "\n",
       "    .dataframe thead th {\n",
       "        text-align: right;\n",
       "    }\n",
       "</style>\n",
       "<table border=\"1\" class=\"dataframe\">\n",
       "  <thead>\n",
       "    <tr style=\"text-align: right;\">\n",
       "      <th></th>\n",
       "      <th>mean_fit_time</th>\n",
       "      <th>std_fit_time</th>\n",
       "      <th>mean_score_time</th>\n",
       "      <th>std_score_time</th>\n",
       "      <th>param_estimator__alpha</th>\n",
       "      <th>params</th>\n",
       "      <th>split0_test_score</th>\n",
       "      <th>split1_test_score</th>\n",
       "      <th>split2_test_score</th>\n",
       "      <th>split3_test_score</th>\n",
       "      <th>split4_test_score</th>\n",
       "      <th>mean_test_score</th>\n",
       "      <th>std_test_score</th>\n",
       "      <th>rank_test_score</th>\n",
       "    </tr>\n",
       "  </thead>\n",
       "  <tbody>\n",
       "    <tr>\n",
       "      <th>0</th>\n",
       "      <td>13.471359</td>\n",
       "      <td>1.285233</td>\n",
       "      <td>3.044115</td>\n",
       "      <td>0.463865</td>\n",
       "      <td>0.0001</td>\n",
       "      <td>{'estimator__alpha': 0.0001}</td>\n",
       "      <td>0.802331</td>\n",
       "      <td>0.798436</td>\n",
       "      <td>0.802734</td>\n",
       "      <td>0.797666</td>\n",
       "      <td>0.803041</td>\n",
       "      <td>0.800842</td>\n",
       "      <td>0.002303</td>\n",
       "      <td>4</td>\n",
       "    </tr>\n",
       "    <tr>\n",
       "      <th>1</th>\n",
       "      <td>11.517519</td>\n",
       "      <td>2.142521</td>\n",
       "      <td>3.806543</td>\n",
       "      <td>1.467137</td>\n",
       "      <td>0.001</td>\n",
       "      <td>{'estimator__alpha': 0.001}</td>\n",
       "      <td>0.803030</td>\n",
       "      <td>0.799764</td>\n",
       "      <td>0.805259</td>\n",
       "      <td>0.798434</td>\n",
       "      <td>0.803929</td>\n",
       "      <td>0.802083</td>\n",
       "      <td>0.002572</td>\n",
       "      <td>3</td>\n",
       "    </tr>\n",
       "    <tr>\n",
       "      <th>2</th>\n",
       "      <td>10.031562</td>\n",
       "      <td>1.787620</td>\n",
       "      <td>4.641951</td>\n",
       "      <td>0.981307</td>\n",
       "      <td>0.01</td>\n",
       "      <td>{'estimator__alpha': 0.01}</td>\n",
       "      <td>0.803903</td>\n",
       "      <td>0.802253</td>\n",
       "      <td>0.806531</td>\n",
       "      <td>0.800566</td>\n",
       "      <td>0.805284</td>\n",
       "      <td>0.803707</td>\n",
       "      <td>0.002120</td>\n",
       "      <td>2</td>\n",
       "    </tr>\n",
       "    <tr>\n",
       "      <th>3</th>\n",
       "      <td>9.185314</td>\n",
       "      <td>1.158198</td>\n",
       "      <td>4.930585</td>\n",
       "      <td>0.448698</td>\n",
       "      <td>0.1</td>\n",
       "      <td>{'estimator__alpha': 0.1}</td>\n",
       "      <td>0.804901</td>\n",
       "      <td>0.801724</td>\n",
       "      <td>0.807550</td>\n",
       "      <td>0.801032</td>\n",
       "      <td>0.806323</td>\n",
       "      <td>0.804306</td>\n",
       "      <td>0.002543</td>\n",
       "      <td>1</td>\n",
       "    </tr>\n",
       "    <tr>\n",
       "      <th>4</th>\n",
       "      <td>9.584277</td>\n",
       "      <td>0.965773</td>\n",
       "      <td>4.361456</td>\n",
       "      <td>1.132168</td>\n",
       "      <td>0</td>\n",
       "      <td>{'estimator__alpha': 0}</td>\n",
       "      <td>0.797449</td>\n",
       "      <td>0.791602</td>\n",
       "      <td>0.796901</td>\n",
       "      <td>0.793856</td>\n",
       "      <td>0.800000</td>\n",
       "      <td>0.795962</td>\n",
       "      <td>0.002927</td>\n",
       "      <td>6</td>\n",
       "    </tr>\n",
       "    <tr>\n",
       "      <th>5</th>\n",
       "      <td>9.533543</td>\n",
       "      <td>1.284787</td>\n",
       "      <td>4.665036</td>\n",
       "      <td>1.420612</td>\n",
       "      <td>1</td>\n",
       "      <td>{'estimator__alpha': 1}</td>\n",
       "      <td>0.799153</td>\n",
       "      <td>0.795810</td>\n",
       "      <td>0.804995</td>\n",
       "      <td>0.796167</td>\n",
       "      <td>0.804060</td>\n",
       "      <td>0.800037</td>\n",
       "      <td>0.003857</td>\n",
       "      <td>5</td>\n",
       "    </tr>\n",
       "    <tr>\n",
       "      <th>6</th>\n",
       "      <td>9.002414</td>\n",
       "      <td>1.268036</td>\n",
       "      <td>4.837592</td>\n",
       "      <td>1.198256</td>\n",
       "      <td>2</td>\n",
       "      <td>{'estimator__alpha': 2}</td>\n",
       "      <td>0.792918</td>\n",
       "      <td>0.790085</td>\n",
       "      <td>0.800904</td>\n",
       "      <td>0.791908</td>\n",
       "      <td>0.798656</td>\n",
       "      <td>0.794894</td>\n",
       "      <td>0.004153</td>\n",
       "      <td>7</td>\n",
       "    </tr>\n",
       "    <tr>\n",
       "      <th>7</th>\n",
       "      <td>8.936553</td>\n",
       "      <td>1.179791</td>\n",
       "      <td>3.474391</td>\n",
       "      <td>1.356673</td>\n",
       "      <td>10</td>\n",
       "      <td>{'estimator__alpha': 10}</td>\n",
       "      <td>0.715830</td>\n",
       "      <td>0.718511</td>\n",
       "      <td>0.730981</td>\n",
       "      <td>0.721503</td>\n",
       "      <td>0.728689</td>\n",
       "      <td>0.723103</td>\n",
       "      <td>0.005828</td>\n",
       "      <td>8</td>\n",
       "    </tr>\n",
       "  </tbody>\n",
       "</table>\n",
       "</div>"
      ]
     },
     "metadata": {},
     "execution_count": 17
    }
   ],
   "metadata": {}
  },
  {
   "cell_type": "markdown",
   "source": [
    "## Logistic Regression"
   ],
   "metadata": {}
  },
  {
   "cell_type": "code",
   "execution_count": 18,
   "source": [
    "from sklearn.linear_model import LogisticRegression\n",
    "start_time = time.time()\n",
    "clf_model_lr = OneVsRestClassifier(LogisticRegression(C=2), n_jobs=-1)\n",
    "clf_model_lr.fit(X_train, y_train)\n",
    "print('Training took {:.3f} seconds'.format(time.time() - start_time))"
   ],
   "outputs": [
    {
     "output_type": "stream",
     "name": "stdout",
     "text": [
      "Training took 109.573 seconds\n"
     ]
    }
   ],
   "metadata": {}
  },
  {
   "cell_type": "code",
   "execution_count": 8,
   "source": [
    "log_reg_model_file = '../output_files/logreg_model.sav'"
   ],
   "outputs": [],
   "metadata": {}
  },
  {
   "cell_type": "code",
   "execution_count": 19,
   "source": [
    "with open(log_reg_model_file, 'wb') as fopen:\n",
    "    pickle.dump(clf_model_lr, fopen)"
   ],
   "outputs": [],
   "metadata": {}
  },
  {
   "cell_type": "code",
   "execution_count": 9,
   "source": [
    "with open(log_reg_model_file, 'rb') as fread:\n",
    "    clf_logreg = pickle.load(fread)"
   ],
   "outputs": [],
   "metadata": {}
  },
  {
   "cell_type": "code",
   "execution_count": 21,
   "source": [
    "model_scorer(clf_logreg, X_test, y_test)"
   ],
   "outputs": [
    {
     "output_type": "stream",
     "name": "stdout",
     "text": [
      "f1 micro score: 0.7983678343949046\n",
      "Topic_1 accuracy= 0.8479141835518474\n",
      "Topic_2 accuracy= 0.9234803337306317\n",
      "Topic_3 accuracy= 0.9041716328963051\n",
      "Topic_4 accuracy= 0.8812872467222884\n",
      "Topic_5 accuracy= 0.9706793802145411\n",
      "Topic_6 accuracy= 0.9895113230035757\n",
      "[[[2184  329]\n",
      "  [ 309 1373]]\n",
      "\n",
      " [[2859  105]\n",
      "  [ 216 1015]]\n",
      "\n",
      " [[2924  139]\n",
      "  [ 263  869]]\n",
      "\n",
      " [[2974  203]\n",
      "  [ 295  723]]\n",
      "\n",
      " [[4054    7]\n",
      "  [ 116   18]]\n",
      "\n",
      " [[4138    6]\n",
      "  [  38   13]]]\n"
     ]
    }
   ],
   "metadata": {}
  },
  {
   "cell_type": "code",
   "execution_count": 19,
   "source": [
    "# Machine hangs when running below code. Needed hard shutdown.\n",
    "\n",
    "# # C_arr = np.linspace(, 105, 11)\n",
    "# C_arr = [0.8,0.9]\n",
    "# # array([ 95.,  96.,  97.,  98.,  99., 100., 101., 102., 103., 104., 105.])\n",
    "# clf_CV = GridSearchCV(clf_model_lr, {'estimator__C':C_arr}, scoring='f1_micro', verbose=1, n_jobs=-1)\n",
    "\n",
    "# start_time = time.time()\n",
    "# clf_CV.fit(X_train, y_train)\n",
    "# print('Training took {:.3f} seconds'.format(time.time() - start_time))\n",
    "# clf_CV.best_estimator_"
   ],
   "outputs": [],
   "metadata": {}
  },
  {
   "cell_type": "markdown",
   "source": [
    "## Voting classifier\n",
    "Both models are doing great job. Let's combine them for good"
   ],
   "metadata": {}
  },
  {
   "cell_type": "code",
   "execution_count": 10,
   "source": [
    "from sklearn.ensemble import VotingClassifier\n",
    "from sklearn.model_selection import cross_val_score"
   ],
   "outputs": [],
   "metadata": {}
  },
  {
   "cell_type": "code",
   "execution_count": 11,
   "source": [
    "estimators = [('mnb', clf_mnb), ('lr', clf_logreg)]\n",
    "clf_voting = VotingClassifier(estimators= estimators,\n",
    "                        voting='soft', weights=[2, 1], n_jobs=-1)"
   ],
   "outputs": [],
   "metadata": {}
  },
  {
   "cell_type": "code",
   "execution_count": 13,
   "source": [
    "start_time = time.time()\n",
    "clf_model_voting = OneVsRestClassifier(clf_voting, n_jobs=3)\n",
    "clf_model_voting.fit(X_train, y_train)\n",
    "print('Training took {:.3f} seconds'.format(time.time() - start_time))"
   ],
   "outputs": [
    {
     "output_type": "stream",
     "name": "stdout",
     "text": [
      "Training took 121.254 seconds\n"
     ]
    }
   ],
   "metadata": {}
  },
  {
   "cell_type": "code",
   "execution_count": 15,
   "source": [
    "voting_model_file = '../output_files/voting_model.sav'"
   ],
   "outputs": [],
   "metadata": {}
  },
  {
   "cell_type": "code",
   "execution_count": 16,
   "source": [
    "with open(voting_model_file, 'wb') as fopen:\n",
    "    pickle.dump(clf_model_voting, fopen)"
   ],
   "outputs": [],
   "metadata": {}
  },
  {
   "cell_type": "code",
   "execution_count": 19,
   "source": [
    "with open(voting_model_file, 'rb') as fread:\n",
    "    clf_model_voting = pickle.load(fread)"
   ],
   "outputs": [],
   "metadata": {}
  },
  {
   "cell_type": "code",
   "execution_count": 20,
   "source": [
    "model_scorer(clf_model_voting, X_test, y_test)"
   ],
   "outputs": [
    {
     "output_type": "stream",
     "name": "stdout",
     "text": [
      "f1 micro score: 0.8053627460302368\n",
      "Topic_1 accuracy= 0.8522050059594756\n",
      "Topic_2 accuracy= 0.9244338498212157\n",
      "Topic_3 accuracy= 0.8974970202622169\n",
      "Topic_4 accuracy= 0.8779499404052443\n",
      "Topic_5 accuracy= 0.9706793802145411\n",
      "Topic_6 accuracy= 0.9892729439809297\n",
      "[[[2127  386]\n",
      "  [ 234 1448]]\n",
      "\n",
      " [[2858  106]\n",
      "  [ 211 1020]]\n",
      "\n",
      " [[2870  193]\n",
      "  [ 237  895]]\n",
      "\n",
      " [[2856  321]\n",
      "  [ 191  827]]\n",
      "\n",
      " [[4043   18]\n",
      "  [ 105   29]]\n",
      "\n",
      " [[4134   10]\n",
      "  [  35   16]]]\n"
     ]
    }
   ],
   "metadata": {}
  },
  {
   "cell_type": "code",
   "execution_count": 21,
   "source": [
    "clf_model_voting.get_params"
   ],
   "outputs": [
    {
     "output_type": "execute_result",
     "data": {
      "text/plain": [
       "<bound method BaseEstimator.get_params of OneVsRestClassifier(estimator=VotingClassifier(estimators=[('mnb',\n",
       "                                                            OneVsRestClassifier(estimator=MultinomialNB(alpha=0.1),\n",
       "                                                                                n_jobs=-1)),\n",
       "                                                           ('lr',\n",
       "                                                            OneVsRestClassifier(estimator=LogisticRegression(C=2),\n",
       "                                                                                n_jobs=-1))],\n",
       "                                               n_jobs=-1, voting='soft',\n",
       "                                               weights=[2, 1]),\n",
       "                    n_jobs=3)>"
      ]
     },
     "metadata": {},
     "execution_count": 21
    }
   ],
   "metadata": {}
  },
  {
   "cell_type": "markdown",
   "source": [
    "## Stacking Classifier"
   ],
   "metadata": {}
  },
  {
   "cell_type": "code",
   "execution_count": 22,
   "source": [
    "from sklearn.ensemble import StackingClassifier"
   ],
   "outputs": [],
   "metadata": {}
  },
  {
   "cell_type": "code",
   "execution_count": 23,
   "source": [
    "clf_stacking = StackingClassifier(estimators=estimators, final_estimator=LogisticRegression())"
   ],
   "outputs": [
    {
     "output_type": "display_data",
     "data": {
      "text/plain": [
       "<IPython.core.display.Javascript object>"
      ],
      "application/javascript": "\n        if (window._pyforest_update_imports_cell) { window._pyforest_update_imports_cell('from sklearn.linear_model import LogisticRegression'); }\n    "
     },
     "metadata": {}
    }
   ],
   "metadata": {}
  },
  {
   "cell_type": "code",
   "execution_count": 24,
   "source": [
    "start_time = time.time()\n",
    "clf_model_stack = OneVsRestClassifier(clf_stacking, n_jobs=3)\n",
    "clf_model_stack.fit(X_train, y_train)\n",
    "print('Training took {:.3f} seconds'.format(time.time() - start_time))"
   ],
   "outputs": [
    {
     "output_type": "stream",
     "name": "stdout",
     "text": [
      "Training took 505.307 seconds\n"
     ]
    }
   ],
   "metadata": {}
  },
  {
   "cell_type": "code",
   "execution_count": 15,
   "source": [
    "stacking_model_file = '../output_files/stacking_model.sav'"
   ],
   "outputs": [],
   "metadata": {}
  },
  {
   "cell_type": "code",
   "execution_count": 16,
   "source": [
    "with open(stacking_model_file, 'wb') as fopen:\n",
    "    pickle.dump(clf_model_stack, fopen)"
   ],
   "outputs": [],
   "metadata": {}
  },
  {
   "cell_type": "code",
   "execution_count": 19,
   "source": [
    "with open(stacking_model_file, 'rb') as fread:\n",
    "    clf_model_stack = pickle.load(fread)"
   ],
   "outputs": [],
   "metadata": {}
  },
  {
   "cell_type": "code",
   "execution_count": null,
   "source": [
    "model_scorer(clf_model_stack, X_test, y_test)"
   ],
   "outputs": [],
   "metadata": {}
  },
  {
   "cell_type": "markdown",
   "source": [
    "# Conclusion\n",
    "- Till now best classifier is voting classifier with less training time, high f1-micro score, high topic wise accuracy.\n",
    "\n",
    "## next steps\n",
    "- We will use saved voting model in separate python module for future predictions."
   ],
   "metadata": {}
  },
  {
   "cell_type": "code",
   "execution_count": null,
   "source": [],
   "outputs": [],
   "metadata": {}
  }
 ],
 "metadata": {
  "kernelspec": {
   "name": "python3",
   "display_name": "Python 3.6.9 64-bit"
  },
  "language_info": {
   "codemirror_mode": {
    "name": "ipython",
    "version": 3
   },
   "file_extension": ".py",
   "mimetype": "text/x-python",
   "name": "python",
   "nbconvert_exporter": "python",
   "pygments_lexer": "ipython3",
   "version": "3.6.9"
  },
  "interpreter": {
   "hash": "31f2aee4e71d21fbe5cf8b01ff0e069b9275f58929596ceb00d14d90e3e16cd6"
  }
 },
 "nbformat": 4,
 "nbformat_minor": 4
}